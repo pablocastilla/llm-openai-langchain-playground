{
 "cells": [
  {
   "attachments": {},
   "cell_type": "markdown",
   "metadata": {},
   "source": [
    "In this notebook I will try to create a medical specialty chooser in which the patient introduces his symptoms and the model will tell the medical specialty that the patient should go to."
   ]
  },
  {
   "cell_type": "code",
   "execution_count": 1,
   "metadata": {},
   "outputs": [],
   "source": [
    "from langchain.chat_models import ChatOpenAI\n",
    "from langchain import LLMChain\n",
    "from langchain.prompts.chat import (\n",
    "    SystemMessagePromptTemplate,ChatPromptTemplate,HumanMessagePromptTemplate\n",
    ")\n",
    "from langchain.callbacks import get_openai_callback\n",
    "from pydantic import BaseModel, Field\n",
    "from langchain.output_parsers import PydanticOutputParser\n",
    "from pydantic import BaseModel, Field"
   ]
  },
  {
   "cell_type": "code",
   "execution_count": 2,
   "metadata": {},
   "outputs": [],
   "source": [
    "# Desired output format.\n",
    "class MedicalSpecialty(BaseModel):\n",
    "    medical_specialty: str = Field(description=\"medical specialty the patient should go to\")\n",
    "    urgent: bool = Field(description=\"the patient should go to the hospital immediately\")\n",
    " \n",
    "parser = PydanticOutputParser(pydantic_object=MedicalSpecialty)\n",
    "\n",
    "# system message prompt. It defines the instructions for the system.\n",
    "template=\"\"\"You are a medical expert.\n",
    "            You will receive the symptoms and will tell the medical specialty the patient should go to.\n",
    "            {format_instructions}\"\"\"\n",
    "\n",
    "system_message_prompt = SystemMessagePromptTemplate.from_template(template)\n",
    "\n",
    "human_template = \"{text}\"\n",
    "human_message_prompt = HumanMessagePromptTemplate.from_template(human_template)\n",
    "chat_prompt = ChatPromptTemplate.from_messages(\n",
    "    [system_message_prompt,human_message_prompt]\n",
    ")\n"
   ]
  },
  {
   "cell_type": "code",
   "execution_count": 3,
   "metadata": {},
   "outputs": [
    {
     "name": "stdout",
     "output_type": "stream",
     "text": [
      "i have ache in my chest and in my left arm.\n",
      "{\"medical_specialty\": \"Cardiology\", \"urgent\": true}\n",
      "====================================\n",
      "me duele mucho la cabeza en la parte frontal y detrás, sudo mucho y estoy mareado.\n",
      "{\"medical_specialty\": \"Neurology\", \"urgent\": false}\n",
      "====================================\n",
      "dolor abdominal en mi parte derecha que se irradia a la espalda.fiebre.\n",
      "{\"medical_specialty\": \"Gastroenterology\", \"urgent\": true}\n",
      "====================================\n",
      "me duele un diente.\n",
      "{\"medical_specialty\": \"Dentistry\", \"urgent\": false}\n",
      "====================================\n",
      "cuando como pan voy mucho a hacer caca.\n",
      "{\"medical_specialty\": \"Gastroenterology\", \"urgent\": false}\n",
      "====================================\n",
      "no hago pipí desde hace 12 horas.\n",
      "{\"medical_specialty\": \"Urology\", \"urgent\": true}\n",
      "====================================\n",
      "Tokens Used: 1555\n",
      "\tPrompt Tokens: 1464\n",
      "\tCompletion Tokens: 91\n",
      "Successful Requests: 6\n",
      "Total Cost (USD): $0.002378\n"
     ]
    }
   ],
   "source": [
    "queries = [\"i have ache in my chest and in my left arm.\",\n",
    "           \"me duele mucho la cabeza en la parte frontal y detrás, sudo mucho y estoy mareado.\",\n",
    "           \"dolor abdominal en mi parte derecha que se irradia a la espalda.fiebre.\",\n",
    "           \"me duele un diente.\",\n",
    "           \"cuando como pan voy mucho a hacer caca.\",\n",
    "           \"no hago pipí desde hace 12 horas.\"]\n",
    "\n",
    "with get_openai_callback() as cb:\n",
    "    for query in queries:\n",
    "        llm = ChatOpenAI(temperature=0)\n",
    "\n",
    "        chain = LLMChain(llm=llm, prompt=chat_prompt)\n",
    "        print(query)\n",
    "        print(chain.run({'text': query, 'format_instructions': parser.get_format_instructions()}))\n",
    "        print(\"====================================\")\n",
    "        \n",
    "    # print te costs of the requests\n",
    "    print(cb)\n",
    "\n"
   ]
  },
  {
   "cell_type": "code",
   "execution_count": 6,
   "metadata": {},
   "outputs": [
    {
     "name": "stdout",
     "output_type": "stream",
     "text": [
      "Running on local URL:  http://127.0.0.1:7861\n",
      "\n",
      "To create a public link, set `share=True` in `launch()`.\n"
     ]
    },
    {
     "data": {
      "text/html": [
       "<div><iframe src=\"http://127.0.0.1:7861/\" width=\"100%\" height=\"500\" allow=\"autoplay; camera; microphone; clipboard-read; clipboard-write;\" frameborder=\"0\" allowfullscreen></iframe></div>"
      ],
      "text/plain": [
       "<IPython.core.display.HTML object>"
      ]
     },
     "metadata": {},
     "output_type": "display_data"
    },
    {
     "data": {
      "text/plain": []
     },
     "execution_count": 6,
     "metadata": {},
     "output_type": "execute_result"
    },
    {
     "name": "stdout",
     "output_type": "stream",
     "text": [
      "Tokens Used: 251\n",
      "\tPrompt Tokens: 236\n",
      "\tCompletion Tokens: 15\n",
      "Successful Requests: 1\n",
      "Total Cost (USD): $0.000384\n"
     ]
    }
   ],
   "source": [
    "# lets put a gradio interface on top of this\n",
    "# https://gradio.app/getting_started\n",
    "\n",
    "import gradio as gr\n",
    "\n",
    "def medical_specialty_chooser(text):\n",
    "    with get_openai_callback() as cb:\n",
    "        \n",
    "        llm = ChatOpenAI(temperature=0)\n",
    "\n",
    "        chain = LLMChain(llm=llm, prompt=chat_prompt)\n",
    "\n",
    "        response = chain.run({'text': text, 'format_instructions': parser.get_format_instructions()})\n",
    "        \n",
    "        print(cb)\n",
    "\n",
    "        return response\n",
    "\n",
    "gr.Interface(fn=medical_specialty_chooser, inputs=\"text\", outputs=\"text\").launch()\n"
   ]
  }
 ],
 "metadata": {
  "kernelspec": {
   "display_name": ".venv",
   "language": "python",
   "name": "python3"
  },
  "language_info": {
   "codemirror_mode": {
    "name": "ipython",
    "version": 3
   },
   "file_extension": ".py",
   "mimetype": "text/x-python",
   "name": "python",
   "nbconvert_exporter": "python",
   "pygments_lexer": "ipython3",
   "version": "3.11.2"
  },
  "orig_nbformat": 4
 },
 "nbformat": 4,
 "nbformat_minor": 2
}
